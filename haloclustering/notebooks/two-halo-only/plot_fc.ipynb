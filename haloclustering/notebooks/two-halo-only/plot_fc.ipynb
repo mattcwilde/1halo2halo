{
 "cells": [
  {
   "cell_type": "code",
   "execution_count": 14,
   "metadata": {},
   "outputs": [],
   "source": [
    "import matplotlib.pyplot as plt\n",
    "from haloclustering.data import get_combined_dataset"
   ]
  },
  {
   "cell_type": "code",
   "execution_count": 15,
   "metadata": {},
   "outputs": [
    {
     "name": "stdout",
     "output_type": "stream",
     "text": [
      "Loading abundances from Asplund2009\n",
      "Abundances are relative by number on a logarithmic scale with H=12\n",
      "Cutting on redshift in hits/misses\n",
      "Cutting on impact parameter in hits/misses\n",
      "hits 448\n",
      "misses 1538\n",
      "Cutting on redshift in hits/misses\n",
      "Cutting on impact parameter in hits/misses\n",
      "hits 85\n",
      "misses 103\n",
      "Loading abundances from Asplund2009\n",
      "Abundances are relative by number on a logarithmic scale with H=12\n",
      "Cutting on redshift in hits/misses\n",
      "Cutting on impact parameter in hits/misses\n",
      "hits 482\n",
      "misses 1850\n",
      "Cutting on redshift in hits/misses\n",
      "Cutting on impact parameter in hits/misses\n",
      "hits 92\n",
      "misses 93\n",
      "Loading abundances from Asplund2009\n",
      "Abundances are relative by number on a logarithmic scale with H=12\n",
      "Cutting on redshift in hits/misses\n",
      "Cutting on impact parameter in hits/misses\n",
      "hits 364\n",
      "misses 1387\n",
      "Cutting on redshift in hits/misses\n",
      "Cutting on impact parameter in hits/misses\n",
      "hits 91\n",
      "misses 96\n"
     ]
    }
   ],
   "source": [
    "cgmsqfile = \"/Users/mwilde/python/cgm-squared/cgmsquared/data/cgm/cgmsquared_cgmsurvey_aodm_vhalos10_3sigma.json\"\n",
    "casdir = \"/Users/mwilde/Dropbox/CASBaH/data/h1_galaxies_20Mpc_500kms_*.fits\"\n",
    "data_lo = get_combined_dataset(cgmsqfile, casdir, M_min=0, M_max=9.204)\n",
    "data_mid = get_combined_dataset(cgmsqfile, casdir, M_min=9.204, M_max=9.888)\n",
    "data_hi = get_combined_dataset(cgmsqfile, casdir, M_min=9.888, M_max=17.)"
   ]
  },
  {
   "cell_type": "code",
   "execution_count": null,
   "metadata": {},
   "outputs": [],
   "source": []
  }
 ],
 "metadata": {
  "interpreter": {
   "hash": "0c50aadaae22ca3edcb7dcdb26ddd57a7809ef554295fcfc563e8b7fd04b9644"
  },
  "kernelspec": {
   "display_name": "Python 3.8.8 ('base')",
   "language": "python",
   "name": "python3"
  },
  "language_info": {
   "codemirror_mode": {
    "name": "ipython",
    "version": 3
   },
   "file_extension": ".py",
   "mimetype": "text/x-python",
   "name": "python",
   "nbconvert_exporter": "python",
   "pygments_lexer": "ipython3",
   "version": "3.8.8"
  },
  "orig_nbformat": 4
 },
 "nbformat": 4,
 "nbformat_minor": 2
}
