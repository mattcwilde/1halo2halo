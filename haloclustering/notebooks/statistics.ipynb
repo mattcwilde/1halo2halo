{
 "cells": [
  {
   "cell_type": "code",
   "execution_count": 45,
   "metadata": {},
   "outputs": [],
   "source": [
    "%matplotlib inline\n",
    "%config InlineBackend.figure_format = \"retina\"\n",
    "%load_ext autoreload\n",
    "%autoreload 2\n",
    "\n",
    "import numpy as np\n",
    "import pandas as pd\n",
    "import scipy.special as sc\n",
    "from haloclustering import statistics as stats\n",
    "import pickle\n",
    "from astropy.cosmology import Planck15 as cosmo"
   ]
  },
  {
   "cell_type": "code",
   "execution_count": 9,
   "metadata": {},
   "outputs": [
    {
     "data": {
      "text/plain": [
       "(16, 4000)"
      ]
     },
     "execution_count": 9,
     "metadata": {},
     "output_type": "execute_result"
    }
   ],
   "source": [
    "pkl_file = '../exclusion-model/exclusion_model_gauss_1h_sampler.pkl'\n",
    "infile = open(pkl_file, \"rb\")\n",
    "sampler = pickle.load(infile)\n",
    "infile.close()\n",
    "\n",
    "pkl_file = '../exclusion-model/model_2h_w_beta_sampler.pkl'\n",
    "infile = open(pkl_file, \"rb\")\n",
    "sampler_2h = pickle.load(infile)\n",
    "infile.close()"
   ]
  },
  {
   "cell_type": "code",
   "execution_count": 50,
   "metadata": {},
   "outputs": [],
   "source": [
    "# get data\n",
    "df = pd.read_csv('../data/cgm2_casbah_velo_split_table_with_comoving_rho_and_mass.csv')\n",
    "df['log_rho'] = np.log10(df.rho)\n",
    "df.sort_values('rho', inplace=True)\n",
    "df.rho = df.rho / 1000 # convert to Mpc\n",
    "df = df.query(\"(HM_0_500 != 'indeterminate') & (7 < mstars < 12)\")\n",
    "df['Hz'] = cosmo.H(df.z).value\n",
    "vmax = 500.0 # km/s\n",
    "\n",
    "df.dropna(subset=['mstars'], inplace=True)\n",
    "massmask = df.eval(\"8 < mstars < 10.5\").values\n",
    "df.mstars = 10**df.mstars\n",
    "\n",
    "outcomes = df.HM_0_500\n",
    "hits = (outcomes.values == \"hit\") & massmask\n",
    "misses = (outcomes.values == \"miss\") & massmask"
   ]
  },
  {
   "cell_type": "code",
   "execution_count": 80,
   "metadata": {},
   "outputs": [
    {
     "name": "stdout",
     "output_type": "stream",
     "text": [
      "3.603113933775093 1.5462836768996562 0.07666961135741135\n"
     ]
    }
   ],
   "source": [
    "data_args = (df.rho.values, df.z.values, df.Hz.values, vmax, df.mstars.values, hits, misses)\n",
    "params_chain = sampler.get_chain(discard=2125, thin=1, flat=True)\n",
    "params = np.nanmean(params_chain, axis=0)\n",
    "params_2h_chain = sampler_2h.get_chain(discard=2000, thin=1, flat=True)\n",
    "params_2h = np.nanmean(params_2h_chain, axis=0)\n",
    "ll_exc = stats.log_likelihood_exc(*params, *data_args)\n",
    "ll_2h = stats.log_likelihood_2h(*params_2h, *data_args)"
   ]
  },
  {
   "cell_type": "code",
   "execution_count": 78,
   "metadata": {},
   "outputs": [],
   "source": [
    "bic_exc = stats.bayes_inf_criterion(ll_exc[0], len(params), len(df.z.values))\n",
    "bic_2h = stats.bayes_inf_criterion(ll_2h[0], len(params_2h), len(df.z.values))"
   ]
  },
  {
   "cell_type": "code",
   "execution_count": 79,
   "metadata": {},
   "outputs": [
    {
     "data": {
      "text/plain": [
       "(6821.547515661012, 6805.394688180214)"
      ]
     },
     "execution_count": 79,
     "metadata": {},
     "output_type": "execute_result"
    }
   ],
   "source": [
    "bic_exc, bic_2h"
   ]
  },
  {
   "cell_type": "code",
   "execution_count": 71,
   "metadata": {},
   "outputs": [
    {
     "data": {
      "text/plain": [
       "(8, 7244)"
      ]
     },
     "execution_count": 71,
     "metadata": {},
     "output_type": "execute_result"
    }
   ],
   "source": [
    "len(params), len(df.z.values)"
   ]
  },
  {
   "cell_type": "code",
   "execution_count": 27,
   "metadata": {},
   "outputs": [
    {
     "data": {
      "text/plain": [
       "array([[ 3.52562689e+00,  1.71883180e+00,  6.56892246e-02, ...,\n",
       "         2.38936978e-01,  9.61089478e-01,  3.48741122e+01],\n",
       "       [ 3.59976179e+00,  1.71502720e+00,  7.84907458e-02, ...,\n",
       "         2.04809670e-01,  4.13030256e-01,  3.84151874e+01],\n",
       "       [ 3.78973693e+00,  1.68806365e+00,  2.68689684e-02, ...,\n",
       "         6.39437884e-02,  9.42900247e-01,  3.52490128e+01],\n",
       "       ...,\n",
       "       [ 4.09732459e+00,  1.52549715e+00,  7.26905890e-02, ...,\n",
       "         1.48024493e-01,  3.62355609e-01,  3.71390945e+01],\n",
       "       [ 4.20829188e+00,  1.56536364e+00,  6.47986243e-02, ...,\n",
       "         2.04052218e-01,  1.00251092e+00,  3.29771012e+01],\n",
       "       [ 4.09361337e+00,  1.59291860e+00,  6.34588633e-02, ...,\n",
       "         2.53996079e-02, -6.83428088e-02,  4.22705963e+01]])"
      ]
     },
     "execution_count": 27,
     "metadata": {},
     "output_type": "execute_result"
    }
   ],
   "source": [
    "sampler.get_chain(discard=2125, thin=1, flat=True)"
   ]
  },
  {
   "cell_type": "code",
   "execution_count": null,
   "metadata": {},
   "outputs": [],
   "source": []
  }
 ],
 "metadata": {
  "kernelspec": {
   "display_name": "base",
   "language": "python",
   "name": "python3"
  },
  "language_info": {
   "codemirror_mode": {
    "name": "ipython",
    "version": 3
   },
   "file_extension": ".py",
   "mimetype": "text/x-python",
   "name": "python",
   "nbconvert_exporter": "python",
   "pygments_lexer": "ipython3",
   "version": "3.8.8"
  },
  "orig_nbformat": 4,
  "vscode": {
   "interpreter": {
    "hash": "0c50aadaae22ca3edcb7dcdb26ddd57a7809ef554295fcfc563e8b7fd04b9644"
   }
  }
 },
 "nbformat": 4,
 "nbformat_minor": 2
}
