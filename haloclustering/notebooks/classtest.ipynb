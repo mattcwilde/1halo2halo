{
 "cells": [
  {
   "cell_type": "code",
   "execution_count": 96,
   "metadata": {},
   "outputs": [
    {
     "name": "stdout",
     "output_type": "stream",
     "text": [
      "The autoreload extension is already loaded. To reload it, use:\n",
      "  %reload_ext autoreload\n"
     ]
    },
    {
     "ename": "ImportError",
     "evalue": "attempted relative import with no known parent package",
     "output_type": "error",
     "traceback": [
      "\u001b[0;31m---------------------------------------------------------------------------\u001b[0m",
      "\u001b[0;31mImportError\u001b[0m                               Traceback (most recent call last)",
      "\u001b[0;32m<ipython-input-96-8948e1d7fcc9>\u001b[0m in \u001b[0;36m<module>\u001b[0;34m\u001b[0m\n\u001b[1;32m      3\u001b[0m \u001b[0mget_ipython\u001b[0m\u001b[0;34m(\u001b[0m\u001b[0;34m)\u001b[0m\u001b[0;34m.\u001b[0m\u001b[0mrun_line_magic\u001b[0m\u001b[0;34m(\u001b[0m\u001b[0;34m'load_ext'\u001b[0m\u001b[0;34m,\u001b[0m \u001b[0;34m'autoreload'\u001b[0m\u001b[0;34m)\u001b[0m\u001b[0;34m\u001b[0m\u001b[0;34m\u001b[0m\u001b[0m\n\u001b[1;32m      4\u001b[0m \u001b[0mget_ipython\u001b[0m\u001b[0;34m(\u001b[0m\u001b[0;34m)\u001b[0m\u001b[0;34m.\u001b[0m\u001b[0mrun_line_magic\u001b[0m\u001b[0;34m(\u001b[0m\u001b[0;34m'autoreload'\u001b[0m\u001b[0;34m,\u001b[0m \u001b[0;34m'2'\u001b[0m\u001b[0;34m)\u001b[0m\u001b[0;34m\u001b[0m\u001b[0;34m\u001b[0m\u001b[0m\n\u001b[0;32m----> 5\u001b[0;31m \u001b[0;32mfrom\u001b[0m \u001b[0;34m.\u001b[0m\u001b[0;34m.\u001b[0m \u001b[0;32mimport\u001b[0m \u001b[0mModel\u001b[0m\u001b[0;34m\u001b[0m\u001b[0;34m\u001b[0m\u001b[0m\n\u001b[0m\u001b[1;32m      6\u001b[0m \u001b[0;32mimport\u001b[0m \u001b[0mglob\u001b[0m\u001b[0;34m\u001b[0m\u001b[0;34m\u001b[0m\u001b[0m\n\u001b[1;32m      7\u001b[0m \u001b[0;32mfrom\u001b[0m \u001b[0mcgmsquared\u001b[0m \u001b[0;32mimport\u001b[0m \u001b[0mclustering\u001b[0m \u001b[0;32mas\u001b[0m \u001b[0mcgm2_cluster\u001b[0m\u001b[0;34m\u001b[0m\u001b[0;34m\u001b[0m\u001b[0m\n",
      "\u001b[0;31mImportError\u001b[0m: attempted relative import with no known parent package"
     ]
    }
   ],
   "source": [
    "%matplotlib inline\n",
    "%config InlineBackend.figure_format = \"retina\"\n",
    "%load_ext autoreload\n",
    "%autoreload 2\n",
    "from haloclustering.models import Model\n",
    "import glob\n",
    "from cgmsquared import clustering as cgm2_cluster\n",
    "from cgmsquared import load_cgmsquared\n",
    "import cgmsquared.clustering2 as c2\n",
    "from astropy.table import Table, vstack\n",
    "import numpy as np\n",
    "import matplotlib.pyplot as plt"
   ]
  },
  {
   "cell_type": "code",
   "execution_count": 94,
   "metadata": {},
   "outputs": [
    {
     "name": "stdout",
     "output_type": "stream",
     "text": [
      "Loading abundances from Asplund2009\n",
      "Abundances are relative by number on a logarithmic scale with H=12\n",
      "Cutting on redshift in hits/misses\n",
      "Cutting on impact parameter in hits/misses\n",
      "hits 1294\n",
      "misses 4775\n",
      "Cutting on redshift in hits/misses\n",
      "Cutting on impact parameter in hits/misses\n",
      "hits 268\n",
      "misses 292\n"
     ]
    }
   ],
   "source": [
    "# cgmsquared\n",
    "surveyfile = \"/Users/mwilde/python/cgm-squared/cgmsquared/data/cgm/cgmsquared_cgmsurvey_aodm_vhalos10_3sigma.json\"\n",
    "ion = 'HI'\n",
    "cgm = load_cgmsquared.load_cgm_survey(build_sys=False, survey_file=surveyfile)\n",
    "cgm.add_ion_to_data(ion)\n",
    "\n",
    "# casbah\n",
    "survey_files = glob.glob(\"/Users/mwilde/Dropbox/CASBaH/data/h1_galaxies_20Mpc_500kms_*.fits\")\n",
    "cas_tab_list = []\n",
    "for cas_tab_file in survey_files:\n",
    "    tab = Table.read(cas_tab_file)\n",
    "    # add in useful naming conventions\n",
    "    tab['rho_rvir'] = tab['rho_impact']/tab['rvir']\n",
    "    tab['z'] = tab['z_1']\n",
    "    tab['sig_logN_HI'] = tab['sig_logN']\n",
    "    cas_tab_list.append(tab)\n",
    "\n",
    "cgm_data_cas = vstack(cas_tab_list)\n",
    "\n",
    "\n",
    "# z, rho_com, mass, hits, misses, Hz, dv, cgm_data_doanly, do_anly = c2.combine_cgm2_casbah_cluster_data(cgm, cgm_data_cas)\n",
    "\n",
    "\n",
    "\n",
    "data = c2.combine_cgm2_casbah_cluster_data(cgm, cgm_data_cas)                                                                                                       "
   ]
  },
  {
   "cell_type": "markdown",
   "metadata": {},
   "source": [
    "### the new model is defined as such:\n",
    "\n",
    " define the models\n",
    "\n",
    "\n",
    "###  $\\chi_{\\perp}^{1h} +\\chi_{\\perp}^{2h}$\n",
    "\n",
    "\n",
    "$\\xi = (r/r_0)^{\\gamma}$\n",
    "\n",
    "where in the 1h term, $r_0 = R_{\\rm vir}(m)$, and in the 2-halo term, $r_0$ is a free paramter\n",
    "\n",
    "$\\chi_{\\perp} = \\int \\xi ds$\n",
    "\n",
    "rate of incidence = $\\lambda$\n",
    "\n",
    "\n",
    "\n",
    "$f_c = 1 - \\exp(-\\lambda)$\n",
    "\n",
    "$\\lambda = (1 + [\\chi_{\\perp}^{1h}(r(m)| \\gamma^{1h}) + \\chi_{\\perp}^{2h}(r|r^{2h}_0, \\gamma^{2h})])~\\langle dN/dz | C_0, \\alpha \\rangle \\delta z$\n",
    "\n",
    "$\\langle dN/dz\\rangle = C_0(1 + z)^{\\alpha}$\n"
   ]
  },
  {
   "cell_type": "code",
   "execution_count": 52,
   "metadata": {},
   "outputs": [],
   "source": [
    "r_0_initial = 1 # clustering scale\n",
    "r_0_2 = 4\n",
    "beta_initial = 0.5\n",
    "beta_2_initial = 0.05\n",
    "gamma_initial = 6 # clutering powerlaw index\n",
    "gamma_2_initial = 1.7\n",
    "b_initial = 1. # additive constant to take care of normalization\n",
    "dndz_index = 1.2 # dN/dz powerlaw index\n",
    "dndz_coeff = 17\n",
    "\n",
    "\n",
    "# m0 = 10**9.5\n",
    "\n",
    "\n",
    "# theta = np.array([m0, r_0_initial, r_0_2, gamma_initial, gamma_2_initial,  beta_initial, beta_2_initial, dndz_index, dndz_coeff])\n",
    "\n",
    "theta1h = np.array([gamma_initial])\n",
    "theta2h = np.array([r_0_2, gamma_2_initial])\n",
    "thetaz = np.array([dndz_index, dndz_coeff])\n"
   ]
  },
  {
   "cell_type": "code",
   "execution_count": 57,
   "metadata": {},
   "outputs": [],
   "source": [
    "RvirModel = Model(data, theta1h=theta1h, theta2h=theta2h, thetaz=thetaz)"
   ]
  },
  {
   "cell_type": "code",
   "execution_count": 56,
   "metadata": {},
   "outputs": [
    {
     "data": {
      "text/html": [
       "&lt;Column name=&apos;rvir&apos; dtype=&apos;float64&apos; length=6629&gt;\n",
       "<table>\n",
       "<tr><td>1.0</td></tr>\n",
       "<tr><td>1.0</td></tr>\n",
       "<tr><td>1.0</td></tr>\n",
       "<tr><td>1.0</td></tr>\n",
       "<tr><td>1.0</td></tr>\n",
       "<tr><td>1.0</td></tr>\n",
       "<tr><td>1.0</td></tr>\n",
       "<tr><td>1.0</td></tr>\n",
       "<tr><td>1.0</td></tr>\n",
       "<tr><td>1.0</td></tr>\n",
       "<tr><td>1.0</td></tr>\n",
       "<tr><td>1.0</td></tr>\n",
       "<tr><td>...</td></tr>\n",
       "<tr><td>1.0</td></tr>\n",
       "<tr><td>1.0</td></tr>\n",
       "<tr><td>1.0</td></tr>\n",
       "<tr><td>1.0</td></tr>\n",
       "<tr><td>1.0</td></tr>\n",
       "<tr><td>1.0</td></tr>\n",
       "<tr><td>1.0</td></tr>\n",
       "<tr><td>1.0</td></tr>\n",
       "<tr><td>1.0</td></tr>\n",
       "<tr><td>1.0</td></tr>\n",
       "<tr><td>1.0</td></tr>\n",
       "<tr><td>1.0</td></tr>\n",
       "</table>"
      ],
      "text/plain": [
       "<Column name='rvir' dtype='float64' length=6629>\n",
       "1.0\n",
       "1.0\n",
       "1.0\n",
       "1.0\n",
       "1.0\n",
       "1.0\n",
       "1.0\n",
       "1.0\n",
       "1.0\n",
       "1.0\n",
       "1.0\n",
       "1.0\n",
       "...\n",
       "1.0\n",
       "1.0\n",
       "1.0\n",
       "1.0\n",
       "1.0\n",
       "1.0\n",
       "1.0\n",
       "1.0\n",
       "1.0\n",
       "1.0\n",
       "1.0\n",
       "1.0"
      ]
     },
     "execution_count": 56,
     "metadata": {},
     "output_type": "execute_result"
    }
   ],
   "source": [
    "RvirModel.phit_sum()"
   ]
  },
  {
   "cell_type": "code",
   "execution_count": 48,
   "metadata": {},
   "outputs": [
    {
     "data": {
      "text/plain": [
       "(0.0, 1.5)"
      ]
     },
     "execution_count": 48,
     "metadata": {},
     "output_type": "execute_result"
    },
    {
     "data": {
      "image/png": "[encoded data removed]",
      "text/plain": [
       "<Figure size 432x288 with 1 Axes>"
      ]
     },
     "metadata": {
      "image/png": {
       "height": 248,
       "width": 372
      },
      "needs_background": "light"
     },
     "output_type": "display_data"
    }
   ],
   "source": [
    "plt.scatter(cgm_data_doanly['rho']/1000/(1 + cgm_data_doanly['z']), cgm_data_doanly['rho_com'], s=1)\n",
    "plt.xlim(0,1.5)\n",
    "plt.ylim(0,1.5)"
   ]
  },
  {
   "cell_type": "code",
   "execution_count": 91,
   "metadata": {},
   "outputs": [],
   "source": [
    "def max_likelihood_est(initial, bounds, model):\n",
    "        from scipy.optimize import minimize\n",
    "        # nll = lambda *args: model.neg_log_likelihood(args)\n",
    "        soln = minimize(model.neg_log_likelihood, x0=initial, bounds=bounds)\n",
    "        return soln"
   ]
  },
  {
   "cell_type": "code",
   "execution_count": 93,
   "metadata": {},
   "outputs": [
    {
     "data": {
      "text/plain": [
       "      fun: 3437.8351852010137\n",
       " hess_inv: <5x5 LbfgsInvHessProduct with dtype=float64>\n",
       "      jac: array([ 0.02846718, -0.00272848,  0.0174623 ,  0.02955858,  0.00077307])\n",
       "  message: 'CONVERGENCE: REL_REDUCTION_OF_F_<=_FACTR*EPSMCH'\n",
       "     nfev: 228\n",
       "      nit: 28\n",
       "     njev: 38\n",
       "   status: 0\n",
       "  success: True\n",
       "        x: array([ 0.04579004,  4.63921852,  1.65718876,  1.35072381, 13.88084157])"
      ]
     },
     "execution_count": 93,
     "metadata": {},
     "output_type": "execute_result"
    }
   ],
   "source": [
    "initial = np.array([gamma_initial, r_0_2, gamma_2_initial, dndz_index, dndz_coeff])\n",
    "\n",
    "bounds = ((0, 2), (0, 10), (0, 2), (-2, 3), (0, 30))\n",
    "\n",
    "max_likelihood_est(initial=initial, bounds=bounds, model=RvirModel)"
   ]
  },
  {
   "cell_type": "code",
   "execution_count": null,
   "metadata": {},
   "outputs": [],
   "source": [
    "# calc rvir for fiducial m and z\n",
    "\n",
    "import casbah.gal_properties as caprop\n"
   ]
  },
  {
   "cell_type": "code",
   "execution_count": 67,
   "metadata": {},
   "outputs": [
    {
     "data": {
      "text/plain": [
       "array([[ 6. ,  4. ,  1.7,  1.2, 17. ]])"
      ]
     },
     "execution_count": 67,
     "metadata": {},
     "output_type": "execute_result"
    }
   ],
   "source": [
    "# to use to compute r21 change the data to be the fake data\n",
    "mass = 9.5\n",
    "redshift = 0.5\n",
    "npts = 1000\n",
    "logmhalo = caprop.calchalomass(mass, redshift)\n",
    "rvir = caprop.calcrvir(logmhalo, redshift)\n",
    "r_lin = np.geomspace(1e-10, 20, npts)\n",
    "#m_lin = np.full((npts,1), 10**mass)\n",
    "linmass = 10**mass\n",
    "m_lin = np.full(npts, linmass)\n",
    "# midx_lin = np.digitize(m_lin, [0, 10**lo_edge, 10**hi_edge, 10**13]) - 1\n",
    "z_lin = np.full(npts, redshift)\n",
    "Hz_lin = cosmo.H(z_lin).value\n",
    "dv = 500.\n",
    "rvir_lin = np.full(npts, rvir)\n",
    "\n",
    "data = (\n",
    "    z_lin,\n",
    "    r_lin,\n",
    "    m_lin,\n",
    "    None,\n",
    "    None,\n",
    "    Hz_lin,\n",
    "    dv,\n",
    "    rvir_lin, # calculate rvir here\n",
    "    None)"
   ]
  },
  {
   "cell_type": "code",
   "execution_count": 70,
   "metadata": {},
   "outputs": [],
   "source": [
    "pos = initial + 1e-4 * np.random.randn(2*initial.shape[0], initial.shape[0])\n",
    "nwalkers, ndim = pos.shape\n",
    "import emcee \n",
    "sampler = emcee.EnsembleSampler(nwalkers, ndim, RvirModel.log_probability,\n",
    "                                        args=None)"
   ]
  },
  {
   "cell_type": "code",
   "execution_count": 71,
   "metadata": {},
   "outputs": [
    {
     "data": {
      "text/plain": [
       "<emcee.ensemble.EnsembleSampler at 0x7f84b3588fd0>"
      ]
     },
     "execution_count": 71,
     "metadata": {},
     "output_type": "execute_result"
    }
   ],
   "source": [
    "sampler"
   ]
  },
  {
   "cell_type": "code",
   "execution_count": null,
   "metadata": {},
   "outputs": [],
   "source": []
  }
 ],
 "metadata": {
  "interpreter": {
   "hash": "0c50aadaae22ca3edcb7dcdb26ddd57a7809ef554295fcfc563e8b7fd04b9644"
  },
  "kernelspec": {
   "display_name": "Python 3.8.8 64-bit ('base': conda)",
   "language": "python",
   "name": "python3"
  },
  "language_info": {
   "codemirror_mode": {
    "name": "ipython",
    "version": 3
   },
   "file_extension": ".py",
   "mimetype": "text/x-python",
   "name": "python",
   "nbconvert_exporter": "python",
   "pygments_lexer": "ipython3",
   "version": "3.8.8"
  },
  "orig_nbformat": 4
 },
 "nbformat": 4,
 "nbformat_minor": 2
}
