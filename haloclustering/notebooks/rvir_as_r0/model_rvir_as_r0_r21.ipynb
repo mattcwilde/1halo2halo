{
 "cells": [
  {
   "cell_type": "code",
   "execution_count": 1,
   "metadata": {},
   "outputs": [],
   "source": [
    "%matplotlib inline\n",
    "%config InlineBackend.figure_format = \"retina\"\n",
    "%load_ext autoreload\n",
    "%autoreload 2\n",
    "from haloclustering.models import Model\n",
    "from haloclustering.data import get_combined_dataset\n",
    "import haloclustering.evalulate_model as evaluate\n",
    "from haloclustering import r_cgm\n",
    "from astropy.cosmology import Planck15 as cosmo\n",
    "import casbah.gal_properties as caprop\n",
    "# import glob\n",
    "# from cgmsquared import clustering as cgm2_cluster\n",
    "# from cgmsquared import load_cgmsquared\n",
    "# import cgmsquared.clustering2 as c2\n",
    "# from astropy.table import Table, vstack\n",
    "import numpy as np\n",
    "import matplotlib.pyplot as plt\n",
    "import corner\n",
    "import pickle\n",
    "import os"
   ]
  },
  {
   "cell_type": "code",
   "execution_count": 2,
   "metadata": {},
   "outputs": [],
   "source": [
    "def get_pickles(onehalopklfile, twohalopklfile):\n",
    "    if os.path.exists(onehalopklfile):\n",
    "        \n",
    "        infile = open(onehalopklfile,'rb')\n",
    "        sampler = pickle.load(infile)\n",
    "        infile.close()\n",
    "    else:\n",
    "        print(\"\"\"\"You need to find the output of the emcee model in \n",
    "            cluster_cgm3_2_powerlaws_sum_with_2betas_2gammas.ipynb or rerun it\"\"\")\n",
    "\n",
    "    # get the > 1Mpc fit \"2h_only\"\n",
    "    if os.path.exists(twohalopklfile):\n",
    "        \n",
    "        infile = open(twohalopklfile,'rb')\n",
    "        sampler_2h_only = pickle.load(infile)\n",
    "        infile.close()\n",
    "    else:\n",
    "        print(\"\"\"\"You need to find the output of the emcee model in \n",
    "            cluster_cgm3_only_1Mpc_check_dNdz.ipynb or rerun it\"\"\") \n",
    "\n",
    "    return sampler, sampler_2h_only\n",
    "\n",
    "def log_probability(theta, *args):\n",
    "    return None\n"
   ]
  },
  {
   "cell_type": "markdown",
   "metadata": {},
   "source": [
    "# load in the data and posterior samples "
   ]
  },
  {
   "cell_type": "code",
   "execution_count": 3,
   "metadata": {},
   "outputs": [],
   "source": [
    "onehalopklfile = \"model_rvir_as_r0_sampler.pkl\"\n",
    "twohalopklfile = \"2h_only_1Mpc_full_sampler.pkl\"\n",
    "#cgmsqfile = \"/Users/mwilde/python/cgm-squared/cgmsquared/data/cgm/cgmsquared_cgmsurvey_aodm_vhalos10_3sigma.json\"\n",
    "#casdir = \"/Users/mwilde/Dropbox/CASBaH/data/h1_galaxies_20Mpc_500kms_*.fits\"\n",
    "# data = get_combined_dataset(cgmsqfile, casdir)\n",
    "sampler, sampler_2h_only = get_pickles(onehalopklfile, twohalopklfile)\n",
    "flat_samples = sampler.get_chain(discard=2000, thin=1, flat=True)\n",
    "flat_samples_2h_only = sampler_2h_only.get_chain(discard=2000, thin=1, flat=True)"
   ]
  },
  {
   "cell_type": "code",
   "execution_count": 4,
   "metadata": {},
   "outputs": [],
   "source": [
    "def make_grid_data(mass, redshift):\n",
    "    npts = 1000\n",
    "    r_lin = np.geomspace(1e-10, 20, npts)\n",
    "    m_lin = np.full(npts, 10**mass)\n",
    "    z_lin = np.full(npts, redshift)\n",
    "    Hz_lin = cosmo.H(z_lin).value\n",
    "    dv = 500.\n",
    "    hits = np.ones_like(r_lin)\n",
    "    misses = np.ones_like(r_lin)\n",
    "    logmhalo = caprop.calchalomass(mass, redshift)\n",
    "    rvir = caprop.calcrvir(logmhalo, redshift)\n",
    "    do_anly = np.ones_like(r_lin)\n",
    "\n",
    "    data = z_lin, r_lin, m_lin, hits, misses, Hz_lin, dv, rvir, do_anly \n",
    "    return data\n",
    "\n",
    "def limits(sample):\n",
    "    \n",
    "    hi = np.nanquantile(sample, 0.86)\n",
    "    med = np.nanquantile(sample, 0.5)\n",
    "    low = np.nanquantile(sample, 0.14)\n",
    "    \n",
    "    return med, hi, low"
   ]
  },
  {
   "cell_type": "code",
   "execution_count": 5,
   "metadata": {},
   "outputs": [],
   "source": [
    "data = make_grid_data(9.5, 0.1)"
   ]
  },
  {
   "cell_type": "code",
   "execution_count": 6,
   "metadata": {},
   "outputs": [],
   "source": [
    "# instantiate the model with fake data at a single mass and redshift\n",
    "rvirModel = Model(data)\n",
    "# compute the distribution of R_21 at that mass and redshift\n",
    "r21_sample = r_cgm.compute_Rcrossing(rvirModel, flat_samples, thin=500)"
   ]
  },
  {
   "cell_type": "code",
   "execution_count": 8,
   "metadata": {},
   "outputs": [
    {
     "data": {
      "text/plain": [
       "1.2148595"
      ]
     },
     "execution_count": 8,
     "metadata": {},
     "output_type": "execute_result"
    }
   ],
   "source": [
    "r21_sample.mean()"
   ]
  },
  {
   "cell_type": "markdown",
   "metadata": {},
   "source": [
    "### compute R_21 at a grid in mass and redshift"
   ]
  },
  {
   "cell_type": "code",
   "execution_count": 9,
   "metadata": {},
   "outputs": [],
   "source": [
    "npts_mass = 50\n",
    "npts_z = 1\n",
    "\n",
    "mass_space = np.linspace(7, 11.5, npts_mass)\n",
    "#redshift_space = np.linspace(0.1, 0.5, npts_z)\n",
    "redshift_space = [0.3]\n",
    "\n",
    "r21_realization_list = []\n",
    "r21_med_list = []\n",
    "r21_hi_list = []\n",
    "r21_low_list = []\n",
    "\n",
    "\n",
    "for redshift_i in redshift_space:\n",
    "    r21_realization_list_single_redshift = []\n",
    "    r21_med_list_at_single_redshift = []\n",
    "    r21_hi_list_at_single_redshift = []\n",
    "    r21_low_list_at_single_redshift = []\n",
    "    for mass_i in mass_space:\n",
    "        data_m_z = make_grid_data(mass_i, redshift_i)\n",
    "        rvirModelgrid = Model(data_m_z)\n",
    "        r21_sample = r_cgm.compute_Rcrossing(rvirModelgrid, flat_samples, thin=50, log=False, only_crossing=True)        \n",
    "        r21_med, r21_hi, r21_low = limits(r21_sample)\n",
    "             \n",
    "        r21_realization_list_single_redshift.append(r21_sample)\n",
    "        r21_med_list_at_single_redshift.append(r21_med)\n",
    "        r21_hi_list_at_single_redshift.append(r21_hi)\n",
    "        r21_low_list_at_single_redshift.append(r21_low)\n",
    "    r21_realization_list.append(r21_realization_list_single_redshift)    \n",
    "    r21_med_list.append(r21_med_list_at_single_redshift)\n",
    "    r21_hi_list.append(r21_hi_list_at_single_redshift)\n",
    "    r21_low_list.append(r21_low_list_at_single_redshift)"
   ]
  },
  {
   "cell_type": "code",
   "execution_count": 11,
   "metadata": {},
   "outputs": [
    {
     "data": {
      "image/png": "[encoded data removed]",
      "text/plain": [
       "<Figure size 432x288 with 1 Axes>"
      ]
     },
     "metadata": {
      "image/png": {
       "height": 263,
       "width": 463
      },
      "needs_background": "light"
     },
     "output_type": "display_data"
    }
   ],
   "source": [
    "logmhalo_z0p3 = [\n",
    "        caprop.calchalomass(mstar, 0.3)\n",
    "        for mstar in mass_space]\n",
    "\n",
    "rvir_z0p3 = np.array([caprop.calcrvir(mh, 0.3) for mh in logmhalo_z0p3])\n",
    "color=[\"tab:purple\", \"tab:blue\"]\n",
    "for idx, z in enumerate(redshift_space):\n",
    "    plt.plot(mass_space, r21_med_list[idx], label=f'z={z}', lw=3, color=color[idx])\n",
    "    plt.fill_between(mass_space, r21_low_list[idx], r21_hi_list[idx], color=color[idx],\n",
    "                     alpha=0.1)\n",
    "    \n",
    "plt.plot(mass_space, rvir_z0p3, ls='--', lw=3, \n",
    "         label=r'$R_{\\rm vir }^{z=0.3}$', c='tab:orange')\n",
    "\n",
    "plt.yscale('log')\n",
    "plt.xlabel(r'log$M_{\\star}/M_{\\odot}$');\n",
    "plt.ylabel(r'log$R^{2,1}$ [pkpc]')\n",
    "plt.legend(bbox_to_anchor=(1, 0.99));"
   ]
  },
  {
   "cell_type": "code",
   "execution_count": null,
   "metadata": {},
   "outputs": [],
   "source": []
  }
 ],
 "metadata": {
  "interpreter": {
   "hash": "0c50aadaae22ca3edcb7dcdb26ddd57a7809ef554295fcfc563e8b7fd04b9644"
  },
  "kernelspec": {
   "display_name": "Python 3.8.8 64-bit ('base': conda)",
   "language": "python",
   "name": "python3"
  },
  "language_info": {
   "codemirror_mode": {
    "name": "ipython",
    "version": 3
   },
   "file_extension": ".py",
   "mimetype": "text/x-python",
   "name": "python",
   "nbconvert_exporter": "python",
   "pygments_lexer": "ipython3",
   "version": "3.8.8"
  },
  "orig_nbformat": 4
 },
 "nbformat": 4,
 "nbformat_minor": 2
}
